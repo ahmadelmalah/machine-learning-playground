{
 "cells": [
  {
   "cell_type": "markdown",
   "id": "51152ddd-8acd-49ad-a559-ad13c7e946e0",
   "metadata": {},
   "source": [
    "https://lectures.scientific-python.org/intro/numpy/"
   ]
  },
  {
   "cell_type": "markdown",
   "id": "837a15dd-b794-406c-ac17-7c4d5c94f551",
   "metadata": {},
   "source": [
    "Arrays"
   ]
  },
  {
   "cell_type": "code",
   "execution_count": 1,
   "id": "3ccf22f1-1fe8-465b-a22c-7d9fb868dcdb",
   "metadata": {
    "tags": []
   },
   "outputs": [
    {
     "data": {
      "text/plain": [
       "array([[1, 2, 3],\n",
       "       [4, 5, 6]])"
      ]
     },
     "execution_count": 1,
     "metadata": {},
     "output_type": "execute_result"
    }
   ],
   "source": [
    "import numpy as np\n",
    "x = np.array([[1,2,3], [4,5,6]])\n",
    "x"
   ]
  }
 ],
 "metadata": {
  "kernelspec": {
   "display_name": "Python 3 (ipykernel)",
   "language": "python",
   "name": "python3"
  },
  "language_info": {
   "codemirror_mode": {
    "name": "ipython",
    "version": 3
   },
   "file_extension": ".py",
   "mimetype": "text/x-python",
   "name": "python",
   "nbconvert_exporter": "python",
   "pygments_lexer": "ipython3",
   "version": "3.11.5"
  }
 },
 "nbformat": 4,
 "nbformat_minor": 5
}
