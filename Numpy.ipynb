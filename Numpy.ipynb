{
 "cells": [
  {
   "cell_type": "markdown",
   "id": "51152ddd-8acd-49ad-a559-ad13c7e946e0",
   "metadata": {},
   "source": [
    "https://lectures.scientific-python.org/intro/numpy/"
   ]
  },
  {
   "cell_type": "markdown",
   "id": "837a15dd-b794-406c-ac17-7c4d5c94f551",
   "metadata": {},
   "source": [
    "# Arrays"
   ]
  },
  {
   "cell_type": "code",
   "execution_count": 1,
   "id": "3ccf22f1-1fe8-465b-a22c-7d9fb868dcdb",
   "metadata": {
    "tags": []
   },
   "outputs": [
    {
     "data": {
      "text/plain": [
       "array([[1, 2, 3],\n",
       "       [4, 5, 6],\n",
       "       [7, 8, 9]])"
      ]
     },
     "execution_count": 1,
     "metadata": {},
     "output_type": "execute_result"
    }
   ],
   "source": [
    "import numpy as np\n",
    "x = np.array([[1,2,3], [4,5,6], [7,8,9]])\n",
    "x"
   ]
  },
  {
   "cell_type": "code",
   "execution_count": 2,
   "id": "e18ae62a-bd2a-4872-bdf5-74191c78ddbd",
   "metadata": {},
   "outputs": [
    {
     "data": {
      "text/plain": [
       "dtype('int64')"
      ]
     },
     "execution_count": 2,
     "metadata": {},
     "output_type": "execute_result"
    }
   ],
   "source": [
    "x.dtype"
   ]
  },
  {
   "cell_type": "markdown",
   "id": "dd7855da-a1e2-49d9-9972-91b5fd9dae5f",
   "metadata": {},
   "source": [
    "# Mixed types"
   ]
  },
  {
   "cell_type": "code",
   "execution_count": 3,
   "id": "3ce2161e-e8be-402e-9561-06479000274e",
   "metadata": {},
   "outputs": [
    {
     "data": {
      "text/plain": [
       "array(['1', 'Ahmad', 'True'], dtype='<U21')"
      ]
     },
     "execution_count": 3,
     "metadata": {},
     "output_type": "execute_result"
    }
   ],
   "source": [
    "y = np.array([1, \"Ahmad\", True])\n",
    "y"
   ]
  },
  {
   "cell_type": "code",
   "execution_count": 4,
   "id": "bf8f516e-5a30-4610-882f-053c116d7348",
   "metadata": {},
   "outputs": [
    {
     "data": {
      "text/plain": [
       "False"
      ]
     },
     "execution_count": 4,
     "metadata": {},
     "output_type": "execute_result"
    }
   ],
   "source": [
    "y[2] == True"
   ]
  },
  {
   "cell_type": "code",
   "execution_count": 5,
   "id": "fb3329f4-58f4-49a5-90d0-ed3acee0f42b",
   "metadata": {},
   "outputs": [
    {
     "data": {
      "text/plain": [
       "dtype('int64')"
      ]
     },
     "execution_count": 5,
     "metadata": {},
     "output_type": "execute_result"
    }
   ],
   "source": [
    "z = np.array([1, 2])\n",
    "z.dtype"
   ]
  },
  {
   "cell_type": "code",
   "execution_count": 6,
   "id": "8804ddf8-8d90-40dc-90fd-2d73bae7b01d",
   "metadata": {},
   "outputs": [
    {
     "data": {
      "text/plain": [
       "dtype('float64')"
      ]
     },
     "execution_count": 6,
     "metadata": {},
     "output_type": "execute_result"
    }
   ],
   "source": [
    "z = np.array([1, 2.2])\n",
    "z.dtype"
   ]
  },
  {
   "cell_type": "markdown",
   "id": "d66a7b92-d993-4938-8b04-5c60984dae4b",
   "metadata": {},
   "source": [
    "# arange()"
   ]
  },
  {
   "cell_type": "code",
   "execution_count": 7,
   "id": "9b88bc71-2e99-4003-b011-4527d508fb69",
   "metadata": {},
   "outputs": [
    {
     "data": {
      "text/plain": [
       "array([0, 1, 2])"
      ]
     },
     "execution_count": 7,
     "metadata": {},
     "output_type": "execute_result"
    }
   ],
   "source": [
    "np.arange(3)"
   ]
  },
  {
   "cell_type": "code",
   "execution_count": 8,
   "id": "26e50585-66f4-4361-bb6b-87160bafd8ec",
   "metadata": {},
   "outputs": [
    {
     "data": {
      "text/plain": [
       "dtype('float64')"
      ]
     },
     "execution_count": 8,
     "metadata": {},
     "output_type": "execute_result"
    }
   ],
   "source": [
    "np.arange(3.0).dtype"
   ]
  },
  {
   "cell_type": "code",
   "execution_count": 9,
   "id": "3b51feb3-3b9c-4bb3-aea6-069251b1e8ee",
   "metadata": {},
   "outputs": [
    {
     "data": {
      "text/plain": [
       "array([3, 4, 5, 6])"
      ]
     },
     "execution_count": 9,
     "metadata": {},
     "output_type": "execute_result"
    }
   ],
   "source": [
    "np.arange(3,7)"
   ]
  },
  {
   "cell_type": "code",
   "execution_count": 10,
   "id": "6f52f098-ff73-47dc-8112-77b4dc321f4b",
   "metadata": {},
   "outputs": [
    {
     "data": {
      "text/plain": [
       "array([3, 5])"
      ]
     },
     "execution_count": 10,
     "metadata": {},
     "output_type": "execute_result"
    }
   ],
   "source": [
    "np.arange(3,7,2)"
   ]
  },
  {
   "cell_type": "markdown",
   "id": "d9152019-3212-4a25-ad2d-67abb25c7042",
   "metadata": {},
   "source": [
    "# bincount()"
   ]
  },
  {
   "cell_type": "code",
   "execution_count": 11,
   "id": "f0d4bd88-2c1d-4630-a6d0-62ad87a6ed3e",
   "metadata": {},
   "outputs": [
    {
     "data": {
      "text/plain": [
       "array([0, 4, 2, 0, 0, 0, 0, 0, 0, 0, 1])"
      ]
     },
     "execution_count": 11,
     "metadata": {},
     "output_type": "execute_result"
    }
   ],
   "source": [
    "arr = np.array([1, 10, 1, 1, 1, 2, 2])\n",
    "np.bincount(arr) "
   ]
  },
  {
   "cell_type": "code",
   "execution_count": 12,
   "id": "5652c967-3f9f-4ef5-9806-93aa0f758f62",
   "metadata": {},
   "outputs": [
    {
     "data": {
      "text/plain": [
       "True"
      ]
     },
     "execution_count": 12,
     "metadata": {},
     "output_type": "execute_result"
    }
   ],
   "source": [
    "np.bincount(arr).size == np.amax(arr)+1"
   ]
  },
  {
   "cell_type": "code",
   "execution_count": 13,
   "id": "ae038636-4b62-471c-adcb-12476c6d022b",
   "metadata": {},
   "outputs": [
    {
     "data": {
      "text/plain": [
       "array([1, 1, 1, 1, 1])"
      ]
     },
     "execution_count": 13,
     "metadata": {},
     "output_type": "execute_result"
    }
   ],
   "source": [
    "np.bincount(np.arange(5))"
   ]
  },
  {
   "cell_type": "markdown",
   "id": "217758b5-41b3-4ff5-a5ad-dd8d747af11a",
   "metadata": {},
   "source": [
    "# hstack() vs zip()"
   ]
  },
  {
   "cell_type": "code",
   "execution_count": 24,
   "id": "d5f7cab4-d311-4654-acaa-b539c7f5fc61",
   "metadata": {},
   "outputs": [
    {
     "data": {
      "text/plain": [
       "array([1, 2, 3, 4, 5, 6])"
      ]
     },
     "execution_count": 24,
     "metadata": {},
     "output_type": "execute_result"
    }
   ],
   "source": [
    "a = np.array([1,2,3])\n",
    "b = np.array((4,5,6))\n",
    "np.hstack((a, b))"
   ]
  },
  {
   "cell_type": "code",
   "execution_count": 37,
   "id": "5bd34080-dca3-4f4a-aff4-be696f6bc92b",
   "metadata": {},
   "outputs": [
    {
     "name": "stdout",
     "output_type": "stream",
     "text": [
      "[[1 1 1]\n",
      " [2 2 2]\n",
      " [3 3 3]]\n"
     ]
    },
    {
     "data": {
      "text/plain": [
       "array([[1, 1, 1, 4, 7],\n",
       "       [2, 2, 2, 5, 8],\n",
       "       [3, 3, 3, 6, 9]])"
      ]
     },
     "execution_count": 37,
     "metadata": {},
     "output_type": "execute_result"
    }
   ],
   "source": [
    "a = np.array([[1, 1, 1],[2, 2, 2],[3, 3, 3]])\n",
    "print(a)\n",
    "b = np.array([[4],[5], [6]])\n",
    "c = np.array([[7],[8], [9]])\n",
    "result = np.hstack((a,b,c))\n",
    "result"
   ]
  },
  {
   "cell_type": "code",
   "execution_count": 54,
   "id": "ddcda51a-4afd-4fb5-8dea-ba86e91df1ee",
   "metadata": {},
   "outputs": [
    {
     "name": "stdout",
     "output_type": "stream",
     "text": [
      "[(array([1, 1, 1]), array([4, 4, 4]), array([7, 7, 7])), (array([2, 2, 2]), array([5, 5, 5]), array([8, 8, 8])), (array([3, 3, 3]), array([6, 6, 6]), array([9, 9, 9]))]\n",
      "[(1, 4, 7), (1, 4, 7), (1, 4, 7)]\n"
     ]
    }
   ],
   "source": [
    "x = np.array([[1, 1, 1],[2, 2, 2],[3, 3, 3]])\n",
    "y = np.array([[4,4,4],[5,5,5], [6,6,6]])\n",
    "z = np.array([[7,7,7],[8,8,8], [9,9,9]])\n",
    "res1 = list(zip(x,y,z))\n",
    "res2 = list(zip(x[0], y[0], z[0]))\n",
    "print(res1)\n",
    "print(res2)"
   ]
  },
  {
   "cell_type": "code",
   "execution_count": null,
   "id": "f068969f-a4f8-4c54-aa9c-27272cd0f898",
   "metadata": {},
   "outputs": [],
   "source": []
  }
 ],
 "metadata": {
  "kernelspec": {
   "display_name": "Python 3 (ipykernel)",
   "language": "python",
   "name": "python3"
  },
  "language_info": {
   "codemirror_mode": {
    "name": "ipython",
    "version": 3
   },
   "file_extension": ".py",
   "mimetype": "text/x-python",
   "name": "python",
   "nbconvert_exporter": "python",
   "pygments_lexer": "ipython3",
   "version": "3.8.19"
  }
 },
 "nbformat": 4,
 "nbformat_minor": 5
}
